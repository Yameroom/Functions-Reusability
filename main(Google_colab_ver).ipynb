{
  "nbformat": 4,
  "nbformat_minor": 0,
  "metadata": {
    "colab": {
      "provenance": [],
      "authorship_tag": "ABX9TyOaWbf1Sf6rWn9QipQbmFJq",
      "include_colab_link": true
    },
    "kernelspec": {
      "name": "python3",
      "display_name": "Python 3"
    },
    "language_info": {
      "name": "python"
    }
  },
  "cells": [
    {
      "cell_type": "markdown",
      "metadata": {
        "id": "view-in-github",
        "colab_type": "text"
      },
      "source": [
        "<a href=\"https://colab.research.google.com/github/Yameroom/Functions-Reusability/blob/main/main(Google_colab_ver).ipynb\" target=\"_parent\"><img src=\"https://colab.research.google.com/assets/colab-badge.svg\" alt=\"Open In Colab\"/></a>"
      ]
    },
    {
      "cell_type": "markdown",
      "source": [
        "# **Penugasan SIC 7 - Functions & Reusability**"
      ],
      "metadata": {
        "id": "kIpF0bQ0IrEk"
      }
    },
    {
      "cell_type": "markdown",
      "source": [
        "Buatlah program untuk menentukan konversi suhu suatu ruangan"
      ],
      "metadata": {
        "id": "P3yFTACbJUU0"
      }
    },
    {
      "cell_type": "markdown",
      "source": [
        "![sticker_1.avif](data:image/avif;base64,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)"
      ],
      "metadata": {
        "id": "Va2sDPsuJlAY"
      }
    },
    {
      "cell_type": "code",
      "source": [
        "name = \"Muhammad Bimo Fachrizky\"\n",
        "team = \"Edge of Tomorrow\"\n",
        "collage = \"Politeknik Elektronika Negeri Surabaya\"\n",
        "print(name)\n",
        "print(team)\n",
        "print(collage)"
      ],
      "metadata": {
        "colab": {
          "base_uri": "https://localhost:8080/"
        },
        "id": "4Tv5e463Iqgf",
        "outputId": "1ad61d56-9025-4585-f4d5-fe88fa6e4b9f"
      },
      "execution_count": 4,
      "outputs": [
        {
          "output_type": "stream",
          "name": "stdout",
          "text": [
            "Muhammad Bimo Fachrizky\n",
            "Edge of Tomorrow\n",
            "Politeknik Elektronika Negeri Surabaya\n"
          ]
        }
      ]
    },
    {
      "cell_type": "code",
      "execution_count": null,
      "metadata": {
        "colab": {
          "base_uri": "https://localhost:8080/",
          "height": 73
        },
        "id": "YO5fSZAR3acs",
        "outputId": "0e608baf-890f-4261-eaf7-2c91360e101d"
      },
      "outputs": [
        {
          "output_type": "display_data",
          "data": {
            "text/plain": [
              "<IPython.core.display.HTML object>"
            ],
            "text/html": [
              "\n",
              "     <input type=\"file\" id=\"files-b6ec74b8-4c3f-47f2-97d0-7c0cb997fb81\" name=\"files[]\" multiple disabled\n",
              "        style=\"border:none\" />\n",
              "     <output id=\"result-b6ec74b8-4c3f-47f2-97d0-7c0cb997fb81\">\n",
              "      Upload widget is only available when the cell has been executed in the\n",
              "      current browser session. Please rerun this cell to enable.\n",
              "      </output>\n",
              "      <script>// Copyright 2017 Google LLC\n",
              "//\n",
              "// Licensed under the Apache License, Version 2.0 (the \"License\");\n",
              "// you may not use this file except in compliance with the License.\n",
              "// You may obtain a copy of the License at\n",
              "//\n",
              "//      http://www.apache.org/licenses/LICENSE-2.0\n",
              "//\n",
              "// Unless required by applicable law or agreed to in writing, software\n",
              "// distributed under the License is distributed on an \"AS IS\" BASIS,\n",
              "// WITHOUT WARRANTIES OR CONDITIONS OF ANY KIND, either express or implied.\n",
              "// See the License for the specific language governing permissions and\n",
              "// limitations under the License.\n",
              "\n",
              "/**\n",
              " * @fileoverview Helpers for google.colab Python module.\n",
              " */\n",
              "(function(scope) {\n",
              "function span(text, styleAttributes = {}) {\n",
              "  const element = document.createElement('span');\n",
              "  element.textContent = text;\n",
              "  for (const key of Object.keys(styleAttributes)) {\n",
              "    element.style[key] = styleAttributes[key];\n",
              "  }\n",
              "  return element;\n",
              "}\n",
              "\n",
              "// Max number of bytes which will be uploaded at a time.\n",
              "const MAX_PAYLOAD_SIZE = 100 * 1024;\n",
              "\n",
              "function _uploadFiles(inputId, outputId) {\n",
              "  const steps = uploadFilesStep(inputId, outputId);\n",
              "  const outputElement = document.getElementById(outputId);\n",
              "  // Cache steps on the outputElement to make it available for the next call\n",
              "  // to uploadFilesContinue from Python.\n",
              "  outputElement.steps = steps;\n",
              "\n",
              "  return _uploadFilesContinue(outputId);\n",
              "}\n",
              "\n",
              "// This is roughly an async generator (not supported in the browser yet),\n",
              "// where there are multiple asynchronous steps and the Python side is going\n",
              "// to poll for completion of each step.\n",
              "// This uses a Promise to block the python side on completion of each step,\n",
              "// then passes the result of the previous step as the input to the next step.\n",
              "function _uploadFilesContinue(outputId) {\n",
              "  const outputElement = document.getElementById(outputId);\n",
              "  const steps = outputElement.steps;\n",
              "\n",
              "  const next = steps.next(outputElement.lastPromiseValue);\n",
              "  return Promise.resolve(next.value.promise).then((value) => {\n",
              "    // Cache the last promise value to make it available to the next\n",
              "    // step of the generator.\n",
              "    outputElement.lastPromiseValue = value;\n",
              "    return next.value.response;\n",
              "  });\n",
              "}\n",
              "\n",
              "/**\n",
              " * Generator function which is called between each async step of the upload\n",
              " * process.\n",
              " * @param {string} inputId Element ID of the input file picker element.\n",
              " * @param {string} outputId Element ID of the output display.\n",
              " * @return {!Iterable<!Object>} Iterable of next steps.\n",
              " */\n",
              "function* uploadFilesStep(inputId, outputId) {\n",
              "  const inputElement = document.getElementById(inputId);\n",
              "  inputElement.disabled = false;\n",
              "\n",
              "  const outputElement = document.getElementById(outputId);\n",
              "  outputElement.innerHTML = '';\n",
              "\n",
              "  const pickedPromise = new Promise((resolve) => {\n",
              "    inputElement.addEventListener('change', (e) => {\n",
              "      resolve(e.target.files);\n",
              "    });\n",
              "  });\n",
              "\n",
              "  const cancel = document.createElement('button');\n",
              "  inputElement.parentElement.appendChild(cancel);\n",
              "  cancel.textContent = 'Cancel upload';\n",
              "  const cancelPromise = new Promise((resolve) => {\n",
              "    cancel.onclick = () => {\n",
              "      resolve(null);\n",
              "    };\n",
              "  });\n",
              "\n",
              "  // Wait for the user to pick the files.\n",
              "  const files = yield {\n",
              "    promise: Promise.race([pickedPromise, cancelPromise]),\n",
              "    response: {\n",
              "      action: 'starting',\n",
              "    }\n",
              "  };\n",
              "\n",
              "  cancel.remove();\n",
              "\n",
              "  // Disable the input element since further picks are not allowed.\n",
              "  inputElement.disabled = true;\n",
              "\n",
              "  if (!files) {\n",
              "    return {\n",
              "      response: {\n",
              "        action: 'complete',\n",
              "      }\n",
              "    };\n",
              "  }\n",
              "\n",
              "  for (const file of files) {\n",
              "    const li = document.createElement('li');\n",
              "    li.append(span(file.name, {fontWeight: 'bold'}));\n",
              "    li.append(span(\n",
              "        `(${file.type || 'n/a'}) - ${file.size} bytes, ` +\n",
              "        `last modified: ${\n",
              "            file.lastModifiedDate ? file.lastModifiedDate.toLocaleDateString() :\n",
              "                                    'n/a'} - `));\n",
              "    const percent = span('0% done');\n",
              "    li.appendChild(percent);\n",
              "\n",
              "    outputElement.appendChild(li);\n",
              "\n",
              "    const fileDataPromise = new Promise((resolve) => {\n",
              "      const reader = new FileReader();\n",
              "      reader.onload = (e) => {\n",
              "        resolve(e.target.result);\n",
              "      };\n",
              "      reader.readAsArrayBuffer(file);\n",
              "    });\n",
              "    // Wait for the data to be ready.\n",
              "    let fileData = yield {\n",
              "      promise: fileDataPromise,\n",
              "      response: {\n",
              "        action: 'continue',\n",
              "      }\n",
              "    };\n",
              "\n",
              "    // Use a chunked sending to avoid message size limits. See b/62115660.\n",
              "    let position = 0;\n",
              "    do {\n",
              "      const length = Math.min(fileData.byteLength - position, MAX_PAYLOAD_SIZE);\n",
              "      const chunk = new Uint8Array(fileData, position, length);\n",
              "      position += length;\n",
              "\n",
              "      const base64 = btoa(String.fromCharCode.apply(null, chunk));\n",
              "      yield {\n",
              "        response: {\n",
              "          action: 'append',\n",
              "          file: file.name,\n",
              "          data: base64,\n",
              "        },\n",
              "      };\n",
              "\n",
              "      let percentDone = fileData.byteLength === 0 ?\n",
              "          100 :\n",
              "          Math.round((position / fileData.byteLength) * 100);\n",
              "      percent.textContent = `${percentDone}% done`;\n",
              "\n",
              "    } while (position < fileData.byteLength);\n",
              "  }\n",
              "\n",
              "  // All done.\n",
              "  yield {\n",
              "    response: {\n",
              "      action: 'complete',\n",
              "    }\n",
              "  };\n",
              "}\n",
              "\n",
              "scope.google = scope.google || {};\n",
              "scope.google.colab = scope.google.colab || {};\n",
              "scope.google.colab._files = {\n",
              "  _uploadFiles,\n",
              "  _uploadFilesContinue,\n",
              "};\n",
              "})(self);\n",
              "</script> "
            ]
          },
          "metadata": {}
        },
        {
          "output_type": "stream",
          "name": "stdout",
          "text": [
            "Saving utils.py to utils.py\n"
          ]
        }
      ],
      "source": [
        "from google.colab import files\n",
        "uploaded = files.upload()"
      ]
    },
    {
      "cell_type": "code",
      "source": [
        "import utils"
      ],
      "metadata": {
        "id": "I3jMTVl5HQ1H"
      },
      "execution_count": null,
      "outputs": []
    },
    {
      "cell_type": "code",
      "source": [
        "from utils import konversi_suhu\n",
        "\n",
        "print(\"- - - Konversi Suhu - - -\")\n",
        "batas = \"=\" * 30\n",
        "print(batas)\n",
        "print(\"Selamat datang di program konversi suhu by Cihuy Company !\")\n",
        "print(\"Silahkan pilih opsi konversi suhu yang diinginkan:\")\n",
        "print(batas)\n",
        "nilai = float(input(\"Masukkan nilai suhu: \"))\n",
        "dari = str(input(\"Masukkan satuan suhu awal (C/F/K): \")).lower()\n",
        "ke = str(input(\"Masukkan satuan suhu akhir (C/F/K): \")).lower()\n",
        "print(batas)\n",
        "hasil = konversi_suhu(nilai, dari, ke)\n",
        "print(f\"Hasil dari: {nilai}°{dari.upper()} adalah = {hasil}°{ke.upper()}\")\n",
        "print(\"Terima kasih telah menggunakan program konversi suhu by Cihuy Company!\")\n",
        "print(\"semoga harimu menyenangkan, Cihuyyyy !\")\n"
      ],
      "metadata": {
        "colab": {
          "base_uri": "https://localhost:8080/"
        },
        "id": "xZns5jL0HEcW",
        "outputId": "6019520e-fa87-49f0-cacb-3bd36e4cd73f"
      },
      "execution_count": null,
      "outputs": [
        {
          "output_type": "stream",
          "name": "stdout",
          "text": [
            "- - - Konversi Suhu - - -\n",
            "==============================\n",
            "Selamat datang di program konversi suhu by Cihuy Company !\n",
            "Silahkan pilih opsi konversi suhu yang diinginkan:\n",
            "==============================\n",
            "Masukkan nilai suhu: 25\n",
            "Masukkan satuan suhu awal (C/F/K): c\n",
            "Masukkan satuan suhu akhir (C/F/K): k\n",
            "==============================\n",
            "Hasil dari: 25.0°C adalah = 298.15°K\n",
            "Terima kasih telah menggunakan program konversi suhu by Cihuy Company!\n",
            "semoga harimu menyenangkan, Cihuyyyy !\n"
          ]
        }
      ]
    }
  ]
}